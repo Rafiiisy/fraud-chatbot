{
  "cells": [
    {
      "cell_type": "markdown",
      "metadata": {},
      "source": [
        "# Fraud Forecasting Analysis with ARIMA Models\n",
        "\n",
        "This notebook performs comprehensive ARIMA model testing and selection for fraud trend prediction.\n",
        "\n",
        "## Objectives:\n",
        "1. Test multiple ARIMA model configurations\n",
        "2. Compare model performance using validation metrics\n",
        "3. Select the best performing model\n",
        "4. Generate fraud trend forecasts\n",
        "5. Analyze model accuracy and reliability\n",
        "\n",
        "## Models to Test:\n",
        "- Basic ARIMA (1,1,1), (1,1,2), (2,1,1)\n",
        "- Seasonal ARIMA variations\n",
        "- High-order ARIMA models\n",
        "- Simple ARIMA configurations\n"
      ]
    },
    {
      "cell_type": "code",
      "execution_count": 9,
      "metadata": {},
      "outputs": [
        {
          "name": "stdout",
          "output_type": "stream",
          "text": [
            "📊 Fraud Forecasting Analysis Setup Complete!\n"
          ]
        }
      ],
      "source": [
        "import pandas as pd\n",
        "import numpy as np\n",
        "import matplotlib.pyplot as plt\n",
        "import seaborn as sns\n",
        "from pathlib import Path\n",
        "import warnings\n",
        "warnings.filterwarnings('ignore')\n",
        "\n",
        "# Set up plotting\n",
        "plt.style.use('default')\n",
        "sns.set_palette(\"husl\")\n",
        "plt.rcParams['figure.figsize'] = (12, 8)\n",
        "\n",
        "# Import our custom predictor\n",
        "import sys\n",
        "sys.path.append('../backend')\n",
        "from core.fraud_predictor import FraudPredictor\n",
        "from data.database import DatabaseManager\n",
        "\n",
        "print(\"📊 Fraud Forecasting Analysis Setup Complete!\")\n"
      ]
    },
    {
      "cell_type": "markdown",
      "metadata": {},
      "source": [
        "## 1. Load and Prepare Data\n"
      ]
    },
    {
      "cell_type": "code",
      "execution_count": 20,
      "metadata": {},
      "outputs": [
        {
          "name": "stderr",
          "output_type": "stream",
          "text": [
            "INFO:data.database:Connected to database: ../fraud_data.db\n"
          ]
        },
        {
          "name": "stdout",
          "output_type": "stream",
          "text": [
            "📊 Loading fraud data from database container...\n",
            "✅ Connected to database\n"
          ]
        },
        {
          "name": "stderr",
          "output_type": "stream",
          "text": [
            "INFO:data.database:Loaded 1296675 training records\n",
            "INFO:data.database:Loaded 555719 test records\n",
            "ERROR:data.database:Failed to create indexes: no such column: trans_date\n",
            "INFO:data.database:CSV data loaded successfully\n"
          ]
        },
        {
          "name": "stdout",
          "output_type": "stream",
          "text": [
            "✅ CSV data loaded\n",
            "\n",
            "=== DATABASE EXECUTION DEBUG ===\n",
            "SQL Query: \n",
            "            SELECT trans_date_trans_time, is_fraud, amt, merchant, category\n",
            "            FROM transactions \n",
            "            ORDER BY trans_date_trans_time\n",
            "            LIMIT 50000\n",
            "            \n",
            "Parameters: None\n"
          ]
        },
        {
          "name": "stderr",
          "output_type": "stream",
          "text": [
            "INFO:data.database:Query executed successfully, returned 50000 rows\n"
          ]
        },
        {
          "name": "stdout",
          "output_type": "stream",
          "text": [
            "Query executed successfully, returned 50000 rows\n",
            "Data preview: {'trans_date_trans_time': {0: '2020-06-21 12:14:25', 1: '2020-06-21 12:14:33', 2: '2020-06-21 12:14:53', 3: '2020-06-21 12:15:15', 4: '2020-06-21 12:15:17'}, 'is_fraud': {0: 0, 1: 0, 2: 0, 3: 0, 4: 0}, 'amt': {0: 2.86, 1: 29.84, 2: 41.28, 3: 60.05, 4: 3.19}, 'merchant': {0: 'fraud_Kirlin and Sons', 1: 'fraud_Sporer-Keebler', 2: 'fraud_Swaniawski, Nitzsche and Welch', 3: 'fraud_Haley Group', 4: 'fraud_Johnston-Casper'}, 'category': {0: 'personal_care', 1: 'personal_care', 2: 'health_fitness', 3: 'misc_pos', 4: 'travel'}}\n",
            "=== END DATABASE EXECUTION DEBUG ===\n",
            "\n",
            "✅ Loaded 50000 transactions\n",
            "Date range: 2020-06-21 12:14:25 to 2020-07-07 23:23:37\n",
            "\n",
            "Data shape: (50000, 5)\n",
            "Fraud rate: 0.0040\n",
            "Columns: ['trans_date_trans_time', 'is_fraud', 'amt', 'merchant', 'category']\n"
          ]
        }
      ],
      "source": [
        "# Load fraud data from database container\n",
        "print(\"📊 Loading fraud data from database container...\")\n",
        "\n",
        "try:\n",
        "    # Initialize database manager with correct paths\n",
        "    db_manager = DatabaseManager(\n",
        "        data_dir=\"../dataset\",  # Correct path to dataset\n",
        "        db_path=\"../fraud_data.db\"\n",
        "    )\n",
        "    \n",
        "    # Connect to database\n",
        "    if not db_manager.connect():\n",
        "        print(\"❌ Failed to connect to database\")\n",
        "        data = None\n",
        "    else:\n",
        "        print(\"✅ Connected to database\")\n",
        "        \n",
        "        # Load CSV data into database\n",
        "        if not db_manager.load_csv_data():\n",
        "            print(\"❌ Failed to load CSV data\")\n",
        "            data = None\n",
        "        else:\n",
        "            print(\"✅ CSV data loaded\")\n",
        "            \n",
        "            # Load recent data for forecasting\n",
        "            query = \"\"\"\n",
        "            SELECT trans_date_trans_time, is_fraud, amt, merchant, category\n",
        "            FROM transactions \n",
        "            ORDER BY trans_date_trans_time\n",
        "            LIMIT 50000\n",
        "            \"\"\"\n",
        "            \n",
        "            success, data, error = db_manager.execute_query(query)\n",
        "            \n",
        "            if success and data is not None:\n",
        "                print(f\"✅ Loaded {len(data)} transactions\")\n",
        "                print(f\"Date range: {data['trans_date_trans_time'].min()} to {data['trans_date_trans_time'].max()}\")\n",
        "                \n",
        "                # Basic data info\n",
        "                print(f\"\\nData shape: {data.shape}\")\n",
        "                print(f\"Fraud rate: {data['is_fraud'].mean():.4f}\")\n",
        "                print(f\"Columns: {list(data.columns)}\")\n",
        "                \n",
        "            else:\n",
        "                print(f\"❌ Failed to load data: {error}\")\n",
        "                data = None\n",
        "        \n",
        "except Exception as e:\n",
        "    print(f\"❌ Error loading data: {e}\")\n",
        "    data = None\n"
      ]
    },
    {
      "cell_type": "markdown",
      "metadata": {},
      "source": [
        "## 2. Prepare Time Series Data\n"
      ]
    },
    {
      "cell_type": "code",
      "execution_count": 21,
      "metadata": {},
      "outputs": [
        {
          "name": "stdout",
          "output_type": "stream",
          "text": [
            "🔄 Preparing time series data...\n",
            "✅ Time series data prepared: 17 days\n",
            "Date range: 2020-06-21 00:00:00 to 2020-07-07 00:00:00\n",
            "\n",
            "Time Series Statistics:\n",
            "Mean fraud rate: 0.0040\n",
            "Std fraud rate: 0.0025\n",
            "Min fraud rate: 0.0000\n",
            "Max fraud rate: 0.0098\n"
          ]
        },
        {
          "data": {
            "image/png": "[encoded data removed]",
            "text/plain": [
              "<Figure size 1500x600 with 2 Axes>"
            ]
          },
          "metadata": {},
          "output_type": "display_data"
        },
        {
          "name": "stdout",
          "output_type": "stream",
          "text": [
            "\n",
            "🔍 Testing stationarity...\n",
            "ADF Statistic: -2.3957\n",
            "P-value: 0.1430\n",
            "Stationary: False\n",
            "Interpretation: Non-stationary\n"
          ]
        }
      ],
      "source": [
        "if data is not None:\n",
        "    # Initialize predictor\n",
        "    predictor = FraudPredictor()\n",
        "    \n",
        "    # Prepare time series data\n",
        "    print(\"🔄 Preparing time series data...\")\n",
        "    ts_data = predictor.prepare_time_series_data(data, 'is_fraud')\n",
        "    \n",
        "    if not ts_data.empty:\n",
        "        print(f\"✅ Time series data prepared: {len(ts_data)} days\")\n",
        "        print(f\"Date range: {ts_data.index.min()} to {ts_data.index.max()}\")\n",
        "        \n",
        "        # Display basic statistics\n",
        "        print(f\"\\nTime Series Statistics:\")\n",
        "        print(f\"Mean fraud rate: {ts_data['fraud_rate'].mean():.4f}\")\n",
        "        print(f\"Std fraud rate: {ts_data['fraud_rate'].std():.4f}\")\n",
        "        print(f\"Min fraud rate: {ts_data['fraud_rate'].min():.4f}\")\n",
        "        print(f\"Max fraud rate: {ts_data['fraud_rate'].max():.4f}\")\n",
        "        \n",
        "        # Plot time series\n",
        "        plt.figure(figsize=(15, 6))\n",
        "        plt.subplot(1, 2, 1)\n",
        "        plt.plot(ts_data.index, ts_data['fraud_rate'])\n",
        "        plt.title('Daily Fraud Rate Over Time')\n",
        "        plt.xlabel('Date')\n",
        "        plt.ylabel('Fraud Rate')\n",
        "        plt.xticks(rotation=45)\n",
        "        \n",
        "        plt.subplot(1, 2, 2)\n",
        "        plt.hist(ts_data['fraud_rate'], bins=30, alpha=0.7, edgecolor='black')\n",
        "        plt.title('Distribution of Daily Fraud Rates')\n",
        "        plt.xlabel('Fraud Rate')\n",
        "        plt.ylabel('Frequency')\n",
        "        \n",
        "        plt.tight_layout()\n",
        "        plt.show()\n",
        "        \n",
        "        # Test stationarity\n",
        "        print(f\"\\n🔍 Testing stationarity...\")\n",
        "        stationarity = predictor.test_stationarity(ts_data['fraud_rate'])\n",
        "        \n",
        "        if 'error' not in stationarity:\n",
        "            print(f\"ADF Statistic: {stationarity['adf_statistic']:.4f}\")\n",
        "            print(f\"P-value: {stationarity['p_value']:.4f}\")\n",
        "            print(f\"Stationary: {stationarity['is_stationary']}\")\n",
        "            print(f\"Interpretation: {stationarity['interpretation']}\")\n",
        "        else:\n",
        "            print(f\"❌ Stationarity test failed: {stationarity['error']}\")\n",
        "            \n",
        "    else:\n",
        "        print(\"❌ Failed to prepare time series data\")\n",
        "        ts_data = None\n",
        "else:\n",
        "    print(\"❌ No data available for time series preparation\")\n",
        "    ts_data = None\n"
      ]
    },
    {
      "cell_type": "markdown",
      "metadata": {},
      "source": [
        "## 3. Test Multiple ARIMA Models\n"
      ]
    },
    {
      "cell_type": "code",
      "execution_count": 22,
      "metadata": {},
      "outputs": [
        {
          "name": "stderr",
          "output_type": "stream",
          "text": [
            "ERROR:core.fraud_predictor:Error validating model: 'ARIMAResults' object has no attribute 'order'\n",
            "ERROR:core.fraud_predictor:Error validating model: 'ARIMAResults' object has no attribute 'order'\n",
            "ERROR:core.fraud_predictor:Error validating model: 'ARIMAResults' object has no attribute 'order'\n"
          ]
        },
        {
          "name": "stdout",
          "output_type": "stream",
          "text": [
            "🧪 Testing multiple ARIMA models...\n",
            "\n",
            "📈 Testing Basic ARIMA...\n"
          ]
        },
        {
          "name": "stderr",
          "output_type": "stream",
          "text": [
            "ERROR:core.fraud_predictor:Error validating model: 'ARIMAResults' object has no attribute 'order'\n",
            "ERROR:core.fraud_predictor:Error validating model: 'ARIMAResults' object has no attribute 'order'\n",
            "ERROR:core.fraud_predictor:Error validating model: 'ARIMAResults' object has no attribute 'order'\n",
            "ERROR:core.fraud_predictor:Error validating model: 'ARIMAResults' object has no attribute 'order'\n"
          ]
        },
        {
          "name": "stdout",
          "output_type": "stream",
          "text": [
            "✅ Basic ARIMA completed\n",
            "   Best order: (2, 1, 2)\n",
            "   Best AIC: -137.18\n",
            "   Models tested: 4\n",
            "\n",
            "📈 Testing Simple ARIMA...\n"
          ]
        },
        {
          "name": "stderr",
          "output_type": "stream",
          "text": [
            "ERROR:core.fraud_predictor:Error validating model: 'ARIMAResults' object has no attribute 'order'\n",
            "ERROR:core.fraud_predictor:Error validating model: 'ARIMAResults' object has no attribute 'order'\n",
            "ERROR:core.fraud_predictor:Error validating model: 'ARIMAResults' object has no attribute 'order'\n"
          ]
        },
        {
          "name": "stdout",
          "output_type": "stream",
          "text": [
            "✅ Simple ARIMA completed\n",
            "   Best order: (1, 0, 2)\n",
            "   Best AIC: -153.53\n",
            "   Models tested: 4\n",
            "\n",
            "📈 Testing High Order ARIMA...\n"
          ]
        },
        {
          "name": "stderr",
          "output_type": "stream",
          "text": [
            "ERROR:core.fraud_predictor:Error validating model: 'ARIMAResults' object has no attribute 'order'\n",
            "ERROR:core.fraud_predictor:Error validating model: 'ARIMAResults' object has no attribute 'order'\n",
            "ERROR:core.fraud_predictor:Error validating model: 'ARIMAResults' object has no attribute 'order'\n",
            "ERROR:core.fraud_predictor:Error validating model: 'ARIMAResults' object has no attribute 'order'\n",
            "ERROR:core.fraud_predictor:Error validating model: 'ARIMAResults' object has no attribute 'order'\n"
          ]
        },
        {
          "name": "stdout",
          "output_type": "stream",
          "text": [
            "✅ High Order ARIMA completed\n",
            "   Best order: (3, 1, 2)\n",
            "   Best AIC: -131.07\n",
            "   Models tested: 4\n",
            "\n",
            "📈 Testing Seasonal ARIMA...\n"
          ]
        },
        {
          "name": "stderr",
          "output_type": "stream",
          "text": [
            "ERROR:core.fraud_predictor:Error validating model: 'ARIMAResults' object has no attribute 'order'\n"
          ]
        },
        {
          "name": "stdout",
          "output_type": "stream",
          "text": [
            "✅ Seasonal ARIMA completed\n",
            "   Best order: (2, 1, 2)\n",
            "   Best AIC: -137.18\n",
            "   Models tested: 4\n",
            "\n",
            "📊 Model Testing Summary:\n",
            "Total configurations tested: 4\n",
            "Successful configurations: 4\n"
          ]
        }
      ],
      "source": [
        "if ts_data is not None:\n",
        "    print(\"🧪 Testing multiple ARIMA models...\")\n",
        "    \n",
        "    # Define different model configurations to test\n",
        "    model_configs = [\n",
        "        {\n",
        "            \"name\": \"Basic ARIMA\",\n",
        "            \"orders\": [(1, 1, 1), (1, 1, 2), (2, 1, 1), (2, 1, 2)]\n",
        "        },\n",
        "        {\n",
        "            \"name\": \"Simple ARIMA\", \n",
        "            \"orders\": [(0, 1, 1), (1, 0, 1), (0, 1, 2), (1, 0, 2)]\n",
        "        },\n",
        "        {\n",
        "            \"name\": \"High Order ARIMA\",\n",
        "            \"orders\": [(2, 2, 1), (2, 2, 2), (3, 1, 2), (3, 2, 1)]\n",
        "        },\n",
        "        {\n",
        "            \"name\": \"Seasonal ARIMA\",\n",
        "            \"orders\": [(1, 1, 1), (1, 1, 2), (2, 1, 1), (2, 1, 2)]\n",
        "        }\n",
        "    ]\n",
        "    \n",
        "    all_results = {}\n",
        "    \n",
        "    for config in model_configs:\n",
        "        print(f\"\\n📈 Testing {config['name']}...\")\n",
        "        \n",
        "        try:\n",
        "            # Test models for this configuration\n",
        "            result = predictor.test_multiple_models(\n",
        "                ts_data['fraud_rate'], \n",
        "                model_orders=config['orders']\n",
        "            )\n",
        "            \n",
        "            if result.get(\"success\", False):\n",
        "                all_results[config['name']] = result\n",
        "                print(f\"✅ {config['name']} completed\")\n",
        "                print(f\"   Best order: {result['best_params']}\")\n",
        "                print(f\"   Best AIC: {result['best_aic']:.2f}\")\n",
        "                print(f\"   Models tested: {result['total_models_tested']}\")\n",
        "            else:\n",
        "                print(f\"❌ {config['name']} failed: {result.get('error', 'Unknown error')}\")\n",
        "                \n",
        "        except Exception as e:\n",
        "            print(f\"❌ {config['name']} failed with exception: {e}\")\n",
        "            continue\n",
        "    \n",
        "    print(f\"\\n📊 Model Testing Summary:\")\n",
        "    print(f\"Total configurations tested: {len(model_configs)}\")\n",
        "    print(f\"Successful configurations: {len(all_results)}\")\n",
        "    \n",
        "else:\n",
        "    print(\"❌ No time series data available for model testing\")\n",
        "    all_results = {}\n"
      ]
    }
  ],
  "metadata": {
    "kernelspec": {
      "display_name": "Python 3",
      "language": "python",
      "name": "python3"
    },
    "language_info": {
      "codemirror_mode": {
        "name": "ipython",
        "version": 3
      },
      "file_extension": ".py",
      "mimetype": "text/x-python",
      "name": "python",
      "nbconvert_exporter": "python",
      "pygments_lexer": "ipython3",
      "version": "3.10.0"
    }
  },
  "nbformat": 4,
  "nbformat_minor": 2
}
